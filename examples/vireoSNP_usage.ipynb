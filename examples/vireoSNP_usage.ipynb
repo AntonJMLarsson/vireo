{
 "cells": [
  {
   "cell_type": "markdown",
   "metadata": {},
   "source": [
    "# Examples for vireoSNP"
   ]
  },
  {
   "cell_type": "code",
   "execution_count": 1,
   "metadata": {},
   "outputs": [],
   "source": [
    "import vireoSNP\n",
    "import numpy as np\n",
    "\n",
    "from scipy import sparse\n",
    "from scipy.io import mmread"
   ]
  },
  {
   "cell_type": "markdown",
   "metadata": {},
   "source": [
    "## Load cellSNP data "
   ]
  },
  {
   "cell_type": "markdown",
   "metadata": {},
   "source": [
    "##### Option 1 - VCF format"
   ]
  },
  {
   "cell_type": "code",
   "execution_count": 2,
   "metadata": {},
   "outputs": [],
   "source": [
    "cell_vcf = vireoSNP.load_VCF(\"../data/cells.cellSNP.vcf.gz\", biallelic_only=True)\n",
    "cell_dat = vireoSNP.vcf.read_sparse_GeneINFO(cell_vcf['GenoINFO'], keys=['AD', 'DP'])\n",
    "\n",
    "AD = cell_dat['AD']\n",
    "DP = cell_dat['DP']"
   ]
  },
  {
   "cell_type": "markdown",
   "metadata": {},
   "source": [
    "##### Option 2 - sparse matrices"
   ]
  },
  {
   "cell_type": "code",
   "execution_count": 3,
   "metadata": {},
   "outputs": [],
   "source": [
    "AD = mmread(\"../data/cellSNP_mat/cellSNP.tag.AD.mtx\").tocsc()\n",
    "DP = mmread(\"../data/cellSNP_mat/cellSNP.tag.DP.mtx\").tocsc()"
   ]
  },
  {
   "cell_type": "markdown",
   "metadata": {},
   "source": [
    "## Run vireoSNP\n",
    "Note, `AD` and `DP` are sparse matrices, not `numpy.array`\n",
    "\n",
    "You need to consider how many allelic ratio categories in your data and your prior. For example, you could assume there are three:\n",
    "\n",
    "```python\n",
    "theta_prior = np.array([[0.01, 1], [1, 1], [1, 0.01]])\n",
    "```\n",
    "\n",
    "or three allelic ratios:\n",
    "\n",
    "```python\n",
    "theta_prior = np.array([[0.01, 1], [1, 2], [1, 1], [2, 1], [1, 0.01]])\n",
    "```\n",
    "\n",
    "Also, you need to guess how many donors (or clones) in your data sets.\n",
    "\n",
    "If the allelic ratios are different across variants even with the same allelic category (i.e. genotype), please add `ASE_mode=True`"
   ]
  },
  {
   "cell_type": "code",
   "execution_count": 4,
   "metadata": {},
   "outputs": [
    {
     "name": "stdout",
     "output_type": "stream",
     "text": [
      "[vireo] warm-up: 50 random initializations for 4 clusters...\n",
      "donor3\tdonor1\tdonor2\tdonor0\n",
      "248\t241\t232\t231\n",
      "[vireo] warm-up: lower bound ranges [-34370.0, -28574.6, -22125.0]\n",
      "[vireo] main RUN with warm initials and tuned GT ...\n",
      "[vireo] main RUN: 28 iterations; lower bound -22071.0\n",
      "[vireo] beta parameters for binomial rate:\n",
      "[[440.6 27599.9]\n",
      " [17472.2 20458.0]\n",
      " [20419.2 1318.1]]\n"
     ]
    }
   ],
   "source": [
    "theta_prior = np.array([[0.01, 1], [1, 1], [1, 0.01]])\n",
    "\n",
    "# res = vireoSNP.vireo_core(AD, DP, n_donor=4, learn_GT=True,\n",
    "#                           theta_prior=theta_prior, learn_theta=True, \n",
    "#                           check_doublet=False)\n",
    "\n",
    "res = vireoSNP.vireo_flock(AD, DP, n_donor=4, learn_GT=True,\n",
    "                           n_extra_donor=0, #ASE_mode=True,\n",
    "                           theta_prior=theta_prior, learn_theta=True, \n",
    "                           n_init=50, check_doublet=False, random_seed=1)"
   ]
  },
  {
   "cell_type": "markdown",
   "metadata": {},
   "source": [
    "## Clone assignment probability"
   ]
  },
  {
   "cell_type": "code",
   "execution_count": 6,
   "metadata": {},
   "outputs": [
    {
     "data": {
      "image/png": "[encoded data removed]",
      "text/plain": [
       "<Figure size 600x700 with 2 Axes>"
      ]
     },
     "metadata": {
      "needs_background": "light"
     },
     "output_type": "display_data"
    }
   ],
   "source": [
    "import matplotlib.pyplot as plt\n",
    "plt.rcParams.update({'font.size': 8})\n",
    "from vireoSNP.plot.base_plot import heat_matrix\n",
    "\n",
    "fig = plt.figure(figsize=(3, 3.5), dpi=200)\n",
    "im = heat_matrix(res['ID_prob'], cmap=\"GnBu\", alpha=1,\n",
    "                 display_value=False, row_sort=True)\n",
    "plt.colorbar(im, fraction=0.046, pad=0.04)\n",
    "plt.title(\"cell assignment prob\")\n",
    "plt.xlabel(\"Clones\")\n",
    "plt.ylabel(\"400 cells\")\n",
    "plt.yticks([])\n",
    "plt.xticks([0, 1, 2, 3])\n",
    "\n",
    "plt.tight_layout()\n",
    "plt.show()"
   ]
  },
  {
   "cell_type": "code",
   "execution_count": null,
   "metadata": {},
   "outputs": [],
   "source": []
  }
 ],
 "metadata": {
  "kernelspec": {
   "display_name": "Python 3",
   "language": "python",
   "name": "python3"
  },
  "language_info": {
   "codemirror_mode": {
    "name": "ipython",
    "version": 3
   },
   "file_extension": ".py",
   "mimetype": "text/x-python",
   "name": "python",
   "nbconvert_exporter": "python",
   "pygments_lexer": "ipython3",
   "version": "3.6.9"
  }
 },
 "nbformat": 4,
 "nbformat_minor": 2
}
